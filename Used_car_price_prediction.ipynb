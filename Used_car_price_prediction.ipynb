{
  "nbformat": 4,
  "nbformat_minor": 0,
  "metadata": {
    "kernelspec": {
      "display_name": "venv",
      "language": "python",
      "name": "venv"
    },
    "language_info": {
      "codemirror_mode": {
        "name": "ipython",
        "version": 3
      },
      "file_extension": ".py",
      "mimetype": "text/x-python",
      "name": "python",
      "nbconvert_exporter": "python",
      "pygments_lexer": "ipython3",
      "version": "3.7.3"
    },
    "colab": {
      "name": "Used_car_price_prediction.ipynb",
      "provenance": [],
      "include_colab_link": true
    }
  },
  "cells": [
    {
      "cell_type": "markdown",
      "metadata": {
        "id": "view-in-github",
        "colab_type": "text"
      },
      "source": [
        "<a href=\"https://colab.research.google.com/github/solverprime/dsnd-used-car-prices/blob/main/Used_car_price_prediction.ipynb\" target=\"_parent\"><img src=\"https://colab.research.google.com/assets/colab-badge.svg\" alt=\"Open In Colab\"/></a>"
      ]
    },
    {
      "cell_type": "markdown",
      "metadata": {
        "id": "S-S-nTqM8DLP"
      },
      "source": [
        "# USED CARS ANALYTICS\n",
        "\n",
        "# INTRODUCTION\n",
        "## **QUESTIONS**\n",
        "> Questions we will explore in this quest\n",
        "\n",
        "> Q1. Which manufacturer's cars depreciate the fastest, and slowest, in their value over time? More specifically year\n",
        "\n",
        "## **DATA**\n",
        "> This data is Kaggle dataset available here:\n",
        "  https://www.kaggle.com/austinreese/craigslist-carstrucks-data\n",
        "  \n",
        "## **CONTENT**\n",
        "> This dataset contains relevant information on car sales on Craiglist. The main column of interest is the price of a car. The other relevant columns include manufacturer, condition and further specifications of the car.\n",
        "\n",
        "## **AKNOWLEDGEMENT**\n",
        "\n",
        "## **EVALUATION**\n",
        "> We will use linear regression to train and test our models.\n"
      ]
    },
    {
      "cell_type": "markdown",
      "metadata": {
        "id": "u4HBS2ryOltC"
      },
      "source": [
        "# Preparing to model"
      ]
    },
    {
      "cell_type": "code",
      "metadata": {
        "colab": {
          "base_uri": "https://localhost:8080/",
          "height": 37
        },
        "id": "T1EXSXYg8DLa",
        "outputId": "33c74a25-f5b5-494e-817b-01ba1fd4f0c4"
      },
      "source": [
        "#!pip install numpy\n",
        "#!pip install pandas\n",
        "#!pip install seaborn\n",
        "#!pip install pandas_profiling\n",
        "%pwd"
      ],
      "execution_count": 1,
      "outputs": [
        {
          "output_type": "execute_result",
          "data": {
            "application/vnd.google.colaboratory.intrinsic+json": {
              "type": "string"
            },
            "text/plain": [
              "'/content'"
            ]
          },
          "metadata": {
            "tags": []
          },
          "execution_count": 1
        }
      ]
    },
    {
      "cell_type": "markdown",
      "metadata": {
        "id": "vJAgENhdO6SU"
      },
      "source": [
        "### File constants"
      ]
    },
    {
      "cell_type": "code",
      "metadata": {
        "id": "X21BBtVJPFik"
      },
      "source": [
        "# This Python Notebook runs on Google Colab. If you are running on a \n",
        "# local machine, specify the location of vehicles.csv below\n",
        "DATA_ON_GDRIVE = True\n",
        "\n",
        "# whether to combine Manufacturer and Model columns for each car\n",
        "COMBINE_MANUFACTURER_MODEL = False\n"
      ],
      "execution_count": 2,
      "outputs": []
    },
    {
      "cell_type": "markdown",
      "metadata": {
        "id": "1F7a5n1OPOch"
      },
      "source": [
        "### Import libraries"
      ]
    },
    {
      "cell_type": "code",
      "metadata": {
        "id": "T5HNTzCD8DLb"
      },
      "source": [
        "import numpy as np\n",
        "import pandas as pd\n",
        "import matplotlib.pyplot as plt\n",
        "from sklearn.linear_model import LinearRegression\n",
        "from sklearn.model_selection import train_test_split\n",
        "from sklearn.metrics import r2_score, mean_squared_error\n",
        "import seaborn as sns\n",
        "import pandas_profiling as pp\n",
        "import warnings\n",
        "warnings.filterwarnings('ignore')\n",
        "%matplotlib inline"
      ],
      "execution_count": 3,
      "outputs": []
    },
    {
      "cell_type": "markdown",
      "metadata": {
        "id": "q5tngq_9MpRM"
      },
      "source": [
        "### Load the data"
      ]
    },
    {
      "cell_type": "code",
      "metadata": {
        "colab": {
          "base_uri": "https://localhost:8080/",
          "height": 530
        },
        "id": "h_yHvwJ_8Ygn",
        "outputId": "47d961c0-e34f-4088-8813-c64878faf65f"
      },
      "source": [
        "if DATA_ON_GDRIVE:\n",
        "  # Mount the Google drive\n",
        "  from google.colab import drive\n",
        "  drive.mount('/content/gdrive')\n",
        "  # Load the data\n",
        "  data = pd.read_csv('/content/gdrive/MyDrive/vehicles.csv')\n",
        "else:\n",
        "  data = pd.read_csv('/vehicles.csv')\n",
        "\n",
        "data.head()"
      ],
      "execution_count": 4,
      "outputs": [
        {
          "output_type": "stream",
          "text": [
            "Drive already mounted at /content/gdrive; to attempt to forcibly remount, call drive.mount(\"/content/gdrive\", force_remount=True).\n"
          ],
          "name": "stdout"
        },
        {
          "output_type": "execute_result",
          "data": {
            "text/html": [
              "<div>\n",
              "<style scoped>\n",
              "    .dataframe tbody tr th:only-of-type {\n",
              "        vertical-align: middle;\n",
              "    }\n",
              "\n",
              "    .dataframe tbody tr th {\n",
              "        vertical-align: top;\n",
              "    }\n",
              "\n",
              "    .dataframe thead th {\n",
              "        text-align: right;\n",
              "    }\n",
              "</style>\n",
              "<table border=\"1\" class=\"dataframe\">\n",
              "  <thead>\n",
              "    <tr style=\"text-align: right;\">\n",
              "      <th></th>\n",
              "      <th>Unnamed: 0</th>\n",
              "      <th>id</th>\n",
              "      <th>url</th>\n",
              "      <th>region</th>\n",
              "      <th>region_url</th>\n",
              "      <th>price</th>\n",
              "      <th>year</th>\n",
              "      <th>manufacturer</th>\n",
              "      <th>model</th>\n",
              "      <th>condition</th>\n",
              "      <th>cylinders</th>\n",
              "      <th>fuel</th>\n",
              "      <th>odometer</th>\n",
              "      <th>title_status</th>\n",
              "      <th>transmission</th>\n",
              "      <th>VIN</th>\n",
              "      <th>drive</th>\n",
              "      <th>size</th>\n",
              "      <th>type</th>\n",
              "      <th>paint_color</th>\n",
              "      <th>image_url</th>\n",
              "      <th>description</th>\n",
              "      <th>state</th>\n",
              "      <th>lat</th>\n",
              "      <th>long</th>\n",
              "      <th>posting_date</th>\n",
              "    </tr>\n",
              "  </thead>\n",
              "  <tbody>\n",
              "    <tr>\n",
              "      <th>0</th>\n",
              "      <td>0</td>\n",
              "      <td>7240372487</td>\n",
              "      <td>https://auburn.craigslist.org/ctd/d/auburn-uni...</td>\n",
              "      <td>auburn</td>\n",
              "      <td>https://auburn.craigslist.org</td>\n",
              "      <td>35990</td>\n",
              "      <td>2010.0</td>\n",
              "      <td>chevrolet</td>\n",
              "      <td>corvette grand sport</td>\n",
              "      <td>good</td>\n",
              "      <td>8 cylinders</td>\n",
              "      <td>gas</td>\n",
              "      <td>32742.0</td>\n",
              "      <td>clean</td>\n",
              "      <td>other</td>\n",
              "      <td>1G1YU3DW1A5106980</td>\n",
              "      <td>rwd</td>\n",
              "      <td>NaN</td>\n",
              "      <td>other</td>\n",
              "      <td>NaN</td>\n",
              "      <td>https://images.craigslist.org/00N0N_ipkbHVZYf4...</td>\n",
              "      <td>Carvana is the safer way to buy a car During t...</td>\n",
              "      <td>al</td>\n",
              "      <td>32.590000</td>\n",
              "      <td>-85.480000</td>\n",
              "      <td>2020-12-02T08:11:30-0600</td>\n",
              "    </tr>\n",
              "    <tr>\n",
              "      <th>1</th>\n",
              "      <td>1</td>\n",
              "      <td>7240309422</td>\n",
              "      <td>https://auburn.craigslist.org/cto/d/auburn-201...</td>\n",
              "      <td>auburn</td>\n",
              "      <td>https://auburn.craigslist.org</td>\n",
              "      <td>7500</td>\n",
              "      <td>2014.0</td>\n",
              "      <td>hyundai</td>\n",
              "      <td>sonata</td>\n",
              "      <td>excellent</td>\n",
              "      <td>4 cylinders</td>\n",
              "      <td>gas</td>\n",
              "      <td>93600.0</td>\n",
              "      <td>clean</td>\n",
              "      <td>automatic</td>\n",
              "      <td>5NPEC4AB0EH813529</td>\n",
              "      <td>fwd</td>\n",
              "      <td>NaN</td>\n",
              "      <td>sedan</td>\n",
              "      <td>NaN</td>\n",
              "      <td>https://images.craigslist.org/00s0s_gBHYmJ5o7y...</td>\n",
              "      <td>I'll move to another city and try to sell my c...</td>\n",
              "      <td>al</td>\n",
              "      <td>32.547500</td>\n",
              "      <td>-85.468200</td>\n",
              "      <td>2020-12-02T02:11:50-0600</td>\n",
              "    </tr>\n",
              "    <tr>\n",
              "      <th>2</th>\n",
              "      <td>2</td>\n",
              "      <td>7240224296</td>\n",
              "      <td>https://auburn.craigslist.org/cto/d/auburn-200...</td>\n",
              "      <td>auburn</td>\n",
              "      <td>https://auburn.craigslist.org</td>\n",
              "      <td>4900</td>\n",
              "      <td>2006.0</td>\n",
              "      <td>bmw</td>\n",
              "      <td>x3 3.0i</td>\n",
              "      <td>good</td>\n",
              "      <td>6 cylinders</td>\n",
              "      <td>gas</td>\n",
              "      <td>87046.0</td>\n",
              "      <td>clean</td>\n",
              "      <td>automatic</td>\n",
              "      <td>NaN</td>\n",
              "      <td>NaN</td>\n",
              "      <td>NaN</td>\n",
              "      <td>SUV</td>\n",
              "      <td>blue</td>\n",
              "      <td>https://images.craigslist.org/00B0B_5zgEGWPOrt...</td>\n",
              "      <td>Clean 2006 BMW X3 3.0I.  Beautiful and rare Bl...</td>\n",
              "      <td>al</td>\n",
              "      <td>32.616807</td>\n",
              "      <td>-85.464149</td>\n",
              "      <td>2020-12-01T19:50:41-0600</td>\n",
              "    </tr>\n",
              "    <tr>\n",
              "      <th>3</th>\n",
              "      <td>3</td>\n",
              "      <td>7240103965</td>\n",
              "      <td>https://auburn.craigslist.org/cto/d/lanett-tru...</td>\n",
              "      <td>auburn</td>\n",
              "      <td>https://auburn.craigslist.org</td>\n",
              "      <td>2000</td>\n",
              "      <td>1974.0</td>\n",
              "      <td>chevrolet</td>\n",
              "      <td>c-10</td>\n",
              "      <td>good</td>\n",
              "      <td>4 cylinders</td>\n",
              "      <td>gas</td>\n",
              "      <td>190000.0</td>\n",
              "      <td>clean</td>\n",
              "      <td>automatic</td>\n",
              "      <td>NaN</td>\n",
              "      <td>rwd</td>\n",
              "      <td>full-size</td>\n",
              "      <td>pickup</td>\n",
              "      <td>blue</td>\n",
              "      <td>https://images.craigslist.org/00M0M_6o7KcDpArw...</td>\n",
              "      <td>1974 chev. truck (LONG BED) NEW starter front ...</td>\n",
              "      <td>al</td>\n",
              "      <td>32.861600</td>\n",
              "      <td>-85.216100</td>\n",
              "      <td>2020-12-01T15:54:45-0600</td>\n",
              "    </tr>\n",
              "    <tr>\n",
              "      <th>4</th>\n",
              "      <td>4</td>\n",
              "      <td>7239983776</td>\n",
              "      <td>https://auburn.craigslist.org/cto/d/auburn-200...</td>\n",
              "      <td>auburn</td>\n",
              "      <td>https://auburn.craigslist.org</td>\n",
              "      <td>19500</td>\n",
              "      <td>2005.0</td>\n",
              "      <td>ford</td>\n",
              "      <td>f350 lariat</td>\n",
              "      <td>excellent</td>\n",
              "      <td>8 cylinders</td>\n",
              "      <td>diesel</td>\n",
              "      <td>116000.0</td>\n",
              "      <td>lien</td>\n",
              "      <td>automatic</td>\n",
              "      <td>NaN</td>\n",
              "      <td>4wd</td>\n",
              "      <td>full-size</td>\n",
              "      <td>pickup</td>\n",
              "      <td>blue</td>\n",
              "      <td>https://images.craigslist.org/00p0p_b95l1EgUfl...</td>\n",
              "      <td>2005 Ford F350 Lariat (Bullet Proofed). This t...</td>\n",
              "      <td>al</td>\n",
              "      <td>32.547500</td>\n",
              "      <td>-85.468200</td>\n",
              "      <td>2020-12-01T12:53:56-0600</td>\n",
              "    </tr>\n",
              "  </tbody>\n",
              "</table>\n",
              "</div>"
            ],
            "text/plain": [
              "   Unnamed: 0          id  ...       long              posting_date\n",
              "0           0  7240372487  ... -85.480000  2020-12-02T08:11:30-0600\n",
              "1           1  7240309422  ... -85.468200  2020-12-02T02:11:50-0600\n",
              "2           2  7240224296  ... -85.464149  2020-12-01T19:50:41-0600\n",
              "3           3  7240103965  ... -85.216100  2020-12-01T15:54:45-0600\n",
              "4           4  7239983776  ... -85.468200  2020-12-01T12:53:56-0600\n",
              "\n",
              "[5 rows x 26 columns]"
            ]
          },
          "metadata": {
            "tags": []
          },
          "execution_count": 4
        }
      ]
    },
    {
      "cell_type": "code",
      "metadata": {
        "colab": {
          "base_uri": "https://localhost:8080/",
          "height": 297
        },
        "id": "m1H0sp4y8DLd",
        "outputId": "1656322a-efde-465b-d715-fcd5d0c20801"
      },
      "source": [
        "data.describe()"
      ],
      "execution_count": 5,
      "outputs": [
        {
          "output_type": "execute_result",
          "data": {
            "text/html": [
              "<div>\n",
              "<style scoped>\n",
              "    .dataframe tbody tr th:only-of-type {\n",
              "        vertical-align: middle;\n",
              "    }\n",
              "\n",
              "    .dataframe tbody tr th {\n",
              "        vertical-align: top;\n",
              "    }\n",
              "\n",
              "    .dataframe thead th {\n",
              "        text-align: right;\n",
              "    }\n",
              "</style>\n",
              "<table border=\"1\" class=\"dataframe\">\n",
              "  <thead>\n",
              "    <tr style=\"text-align: right;\">\n",
              "      <th></th>\n",
              "      <th>Unnamed: 0</th>\n",
              "      <th>id</th>\n",
              "      <th>price</th>\n",
              "      <th>year</th>\n",
              "      <th>odometer</th>\n",
              "      <th>lat</th>\n",
              "      <th>long</th>\n",
              "    </tr>\n",
              "  </thead>\n",
              "  <tbody>\n",
              "    <tr>\n",
              "      <th>count</th>\n",
              "      <td>458213.000000</td>\n",
              "      <td>4.582130e+05</td>\n",
              "      <td>4.582130e+05</td>\n",
              "      <td>457163.000000</td>\n",
              "      <td>4.029100e+05</td>\n",
              "      <td>450765.000000</td>\n",
              "      <td>450765.000000</td>\n",
              "    </tr>\n",
              "    <tr>\n",
              "      <th>mean</th>\n",
              "      <td>229106.000000</td>\n",
              "      <td>7.235233e+09</td>\n",
              "      <td>4.042093e+04</td>\n",
              "      <td>2010.746067</td>\n",
              "      <td>1.016698e+05</td>\n",
              "      <td>38.531925</td>\n",
              "      <td>-94.375824</td>\n",
              "    </tr>\n",
              "    <tr>\n",
              "      <th>std</th>\n",
              "      <td>132274.843786</td>\n",
              "      <td>4.594362e+06</td>\n",
              "      <td>8.194599e+06</td>\n",
              "      <td>8.868136</td>\n",
              "      <td>3.228623e+06</td>\n",
              "      <td>5.857378</td>\n",
              "      <td>18.076225</td>\n",
              "    </tr>\n",
              "    <tr>\n",
              "      <th>min</th>\n",
              "      <td>0.000000</td>\n",
              "      <td>7.208550e+09</td>\n",
              "      <td>0.000000e+00</td>\n",
              "      <td>1900.000000</td>\n",
              "      <td>0.000000e+00</td>\n",
              "      <td>-82.607549</td>\n",
              "      <td>-164.091797</td>\n",
              "    </tr>\n",
              "    <tr>\n",
              "      <th>25%</th>\n",
              "      <td>114553.000000</td>\n",
              "      <td>7.231953e+09</td>\n",
              "      <td>4.900000e+03</td>\n",
              "      <td>2008.000000</td>\n",
              "      <td>4.087700e+04</td>\n",
              "      <td>34.600000</td>\n",
              "      <td>-110.890427</td>\n",
              "    </tr>\n",
              "    <tr>\n",
              "      <th>50%</th>\n",
              "      <td>229106.000000</td>\n",
              "      <td>7.236409e+09</td>\n",
              "      <td>1.099500e+04</td>\n",
              "      <td>2013.000000</td>\n",
              "      <td>8.764100e+04</td>\n",
              "      <td>39.244500</td>\n",
              "      <td>-88.314889</td>\n",
              "    </tr>\n",
              "    <tr>\n",
              "      <th>75%</th>\n",
              "      <td>343659.000000</td>\n",
              "      <td>7.239321e+09</td>\n",
              "      <td>2.149500e+04</td>\n",
              "      <td>2016.000000</td>\n",
              "      <td>1.340000e+05</td>\n",
              "      <td>42.484503</td>\n",
              "      <td>-81.015022</td>\n",
              "    </tr>\n",
              "    <tr>\n",
              "      <th>max</th>\n",
              "      <td>458212.000000</td>\n",
              "      <td>7.241019e+09</td>\n",
              "      <td>3.615215e+09</td>\n",
              "      <td>2021.000000</td>\n",
              "      <td>2.043756e+09</td>\n",
              "      <td>82.049255</td>\n",
              "      <td>150.898969</td>\n",
              "    </tr>\n",
              "  </tbody>\n",
              "</table>\n",
              "</div>"
            ],
            "text/plain": [
              "          Unnamed: 0            id  ...            lat           long\n",
              "count  458213.000000  4.582130e+05  ...  450765.000000  450765.000000\n",
              "mean   229106.000000  7.235233e+09  ...      38.531925     -94.375824\n",
              "std    132274.843786  4.594362e+06  ...       5.857378      18.076225\n",
              "min         0.000000  7.208550e+09  ...     -82.607549    -164.091797\n",
              "25%    114553.000000  7.231953e+09  ...      34.600000    -110.890427\n",
              "50%    229106.000000  7.236409e+09  ...      39.244500     -88.314889\n",
              "75%    343659.000000  7.239321e+09  ...      42.484503     -81.015022\n",
              "max    458212.000000  7.241019e+09  ...      82.049255     150.898969\n",
              "\n",
              "[8 rows x 7 columns]"
            ]
          },
          "metadata": {
            "tags": []
          },
          "execution_count": 5
        }
      ]
    },
    {
      "cell_type": "markdown",
      "metadata": {
        "id": "1yKemvvv8DLd"
      },
      "source": [
        "# Data cleaning"
      ]
    },
    {
      "cell_type": "markdown",
      "metadata": {
        "id": "RXj98bQcrRfu"
      },
      "source": [
        "### Drop irrelevant columns"
      ]
    },
    {
      "cell_type": "code",
      "metadata": {
        "colab": {
          "base_uri": "https://localhost:8080/",
          "height": 204
        },
        "id": "afM9Svj-8DLe",
        "outputId": "3bd9021e-f45f-4f61-fb5f-20e11f80eede"
      },
      "source": [
        "# Drop rows with missing price values\n",
        "data = data.dropna(subset=['price'], axis=0)\n",
        " \n",
        "# Drop columns do not help with building a prediction model. \n",
        "data = data.drop(['Unnamed: 0', 'id', 'url','region','region_url', 'image_url','description','VIN',\n",
        "                  'lat','long', 'posting_date','model'],axis=1)\n",
        "\n",
        "data.head()"
      ],
      "execution_count": 6,
      "outputs": [
        {
          "output_type": "execute_result",
          "data": {
            "text/html": [
              "<div>\n",
              "<style scoped>\n",
              "    .dataframe tbody tr th:only-of-type {\n",
              "        vertical-align: middle;\n",
              "    }\n",
              "\n",
              "    .dataframe tbody tr th {\n",
              "        vertical-align: top;\n",
              "    }\n",
              "\n",
              "    .dataframe thead th {\n",
              "        text-align: right;\n",
              "    }\n",
              "</style>\n",
              "<table border=\"1\" class=\"dataframe\">\n",
              "  <thead>\n",
              "    <tr style=\"text-align: right;\">\n",
              "      <th></th>\n",
              "      <th>price</th>\n",
              "      <th>year</th>\n",
              "      <th>manufacturer</th>\n",
              "      <th>condition</th>\n",
              "      <th>cylinders</th>\n",
              "      <th>fuel</th>\n",
              "      <th>odometer</th>\n",
              "      <th>title_status</th>\n",
              "      <th>transmission</th>\n",
              "      <th>drive</th>\n",
              "      <th>size</th>\n",
              "      <th>type</th>\n",
              "      <th>paint_color</th>\n",
              "      <th>state</th>\n",
              "    </tr>\n",
              "  </thead>\n",
              "  <tbody>\n",
              "    <tr>\n",
              "      <th>0</th>\n",
              "      <td>35990</td>\n",
              "      <td>2010.0</td>\n",
              "      <td>chevrolet</td>\n",
              "      <td>good</td>\n",
              "      <td>8 cylinders</td>\n",
              "      <td>gas</td>\n",
              "      <td>32742.0</td>\n",
              "      <td>clean</td>\n",
              "      <td>other</td>\n",
              "      <td>rwd</td>\n",
              "      <td>NaN</td>\n",
              "      <td>other</td>\n",
              "      <td>NaN</td>\n",
              "      <td>al</td>\n",
              "    </tr>\n",
              "    <tr>\n",
              "      <th>1</th>\n",
              "      <td>7500</td>\n",
              "      <td>2014.0</td>\n",
              "      <td>hyundai</td>\n",
              "      <td>excellent</td>\n",
              "      <td>4 cylinders</td>\n",
              "      <td>gas</td>\n",
              "      <td>93600.0</td>\n",
              "      <td>clean</td>\n",
              "      <td>automatic</td>\n",
              "      <td>fwd</td>\n",
              "      <td>NaN</td>\n",
              "      <td>sedan</td>\n",
              "      <td>NaN</td>\n",
              "      <td>al</td>\n",
              "    </tr>\n",
              "    <tr>\n",
              "      <th>2</th>\n",
              "      <td>4900</td>\n",
              "      <td>2006.0</td>\n",
              "      <td>bmw</td>\n",
              "      <td>good</td>\n",
              "      <td>6 cylinders</td>\n",
              "      <td>gas</td>\n",
              "      <td>87046.0</td>\n",
              "      <td>clean</td>\n",
              "      <td>automatic</td>\n",
              "      <td>NaN</td>\n",
              "      <td>NaN</td>\n",
              "      <td>SUV</td>\n",
              "      <td>blue</td>\n",
              "      <td>al</td>\n",
              "    </tr>\n",
              "    <tr>\n",
              "      <th>3</th>\n",
              "      <td>2000</td>\n",
              "      <td>1974.0</td>\n",
              "      <td>chevrolet</td>\n",
              "      <td>good</td>\n",
              "      <td>4 cylinders</td>\n",
              "      <td>gas</td>\n",
              "      <td>190000.0</td>\n",
              "      <td>clean</td>\n",
              "      <td>automatic</td>\n",
              "      <td>rwd</td>\n",
              "      <td>full-size</td>\n",
              "      <td>pickup</td>\n",
              "      <td>blue</td>\n",
              "      <td>al</td>\n",
              "    </tr>\n",
              "    <tr>\n",
              "      <th>4</th>\n",
              "      <td>19500</td>\n",
              "      <td>2005.0</td>\n",
              "      <td>ford</td>\n",
              "      <td>excellent</td>\n",
              "      <td>8 cylinders</td>\n",
              "      <td>diesel</td>\n",
              "      <td>116000.0</td>\n",
              "      <td>lien</td>\n",
              "      <td>automatic</td>\n",
              "      <td>4wd</td>\n",
              "      <td>full-size</td>\n",
              "      <td>pickup</td>\n",
              "      <td>blue</td>\n",
              "      <td>al</td>\n",
              "    </tr>\n",
              "  </tbody>\n",
              "</table>\n",
              "</div>"
            ],
            "text/plain": [
              "   price    year manufacturer  condition  ...       size    type  paint_color state\n",
              "0  35990  2010.0    chevrolet       good  ...        NaN   other          NaN    al\n",
              "1   7500  2014.0      hyundai  excellent  ...        NaN   sedan          NaN    al\n",
              "2   4900  2006.0          bmw       good  ...        NaN     SUV         blue    al\n",
              "3   2000  1974.0    chevrolet       good  ...  full-size  pickup         blue    al\n",
              "4  19500  2005.0         ford  excellent  ...  full-size  pickup         blue    al\n",
              "\n",
              "[5 rows x 14 columns]"
            ]
          },
          "metadata": {
            "tags": []
          },
          "execution_count": 6
        }
      ]
    },
    {
      "cell_type": "code",
      "metadata": {
        "id": "CjAfYEmiKuBg"
      },
      "source": [
        "if COMBINE_MANUFACTURER_MODEL:\n",
        "  # create a combined column for \"Manufacturer\" and \"Model\" as \"Model\" column is a subset of \"Manufacturer\"\n",
        "  # for example: \"Manufacture\"=\"BMW\" has Models=[M1,M2...]\n",
        "  data['car'] = data[['manufacturer','model']].apply(lambda x: str(x['manufacturer']) + ' '+ str(x['model']),axis=1)\n",
        "\n",
        "  # Drop columns do not help with building a prediction model. \n",
        "  data = data.drop(['manufacturer','model'], axis = 1)\n"
      ],
      "execution_count": 7,
      "outputs": []
    },
    {
      "cell_type": "markdown",
      "metadata": {
        "id": "Jx4QIpwpNMhf"
      },
      "source": [
        "---\n",
        "### Numerical Variables\n",
        "\n",
        "\n",
        "\n"
      ]
    },
    {
      "cell_type": "code",
      "metadata": {
        "colab": {
          "base_uri": "https://localhost:8080/",
          "height": 142
        },
        "id": "h1ulvJZeL0bZ",
        "outputId": "1d184401-04d7-46f1-eba1-6395e1ab414d"
      },
      "source": [
        "data.describe().T"
      ],
      "execution_count": 8,
      "outputs": [
        {
          "output_type": "execute_result",
          "data": {
            "text/html": [
              "<div>\n",
              "<style scoped>\n",
              "    .dataframe tbody tr th:only-of-type {\n",
              "        vertical-align: middle;\n",
              "    }\n",
              "\n",
              "    .dataframe tbody tr th {\n",
              "        vertical-align: top;\n",
              "    }\n",
              "\n",
              "    .dataframe thead th {\n",
              "        text-align: right;\n",
              "    }\n",
              "</style>\n",
              "<table border=\"1\" class=\"dataframe\">\n",
              "  <thead>\n",
              "    <tr style=\"text-align: right;\">\n",
              "      <th></th>\n",
              "      <th>count</th>\n",
              "      <th>mean</th>\n",
              "      <th>std</th>\n",
              "      <th>min</th>\n",
              "      <th>25%</th>\n",
              "      <th>50%</th>\n",
              "      <th>75%</th>\n",
              "      <th>max</th>\n",
              "    </tr>\n",
              "  </thead>\n",
              "  <tbody>\n",
              "    <tr>\n",
              "      <th>price</th>\n",
              "      <td>458213.0</td>\n",
              "      <td>40420.930696</td>\n",
              "      <td>8.194599e+06</td>\n",
              "      <td>0.0</td>\n",
              "      <td>4900.0</td>\n",
              "      <td>10995.0</td>\n",
              "      <td>21495.0</td>\n",
              "      <td>3.615215e+09</td>\n",
              "    </tr>\n",
              "    <tr>\n",
              "      <th>year</th>\n",
              "      <td>457163.0</td>\n",
              "      <td>2010.746067</td>\n",
              "      <td>8.868136e+00</td>\n",
              "      <td>1900.0</td>\n",
              "      <td>2008.0</td>\n",
              "      <td>2013.0</td>\n",
              "      <td>2016.0</td>\n",
              "      <td>2.021000e+03</td>\n",
              "    </tr>\n",
              "    <tr>\n",
              "      <th>odometer</th>\n",
              "      <td>402910.0</td>\n",
              "      <td>101669.756941</td>\n",
              "      <td>3.228623e+06</td>\n",
              "      <td>0.0</td>\n",
              "      <td>40877.0</td>\n",
              "      <td>87641.0</td>\n",
              "      <td>134000.0</td>\n",
              "      <td>2.043756e+09</td>\n",
              "    </tr>\n",
              "  </tbody>\n",
              "</table>\n",
              "</div>"
            ],
            "text/plain": [
              "             count           mean  ...       75%           max\n",
              "price     458213.0   40420.930696  ...   21495.0  3.615215e+09\n",
              "year      457163.0    2010.746067  ...    2016.0  2.021000e+03\n",
              "odometer  402910.0  101669.756941  ...  134000.0  2.043756e+09\n",
              "\n",
              "[3 rows x 8 columns]"
            ]
          },
          "metadata": {
            "tags": []
          },
          "execution_count": 8
        }
      ]
    },
    {
      "cell_type": "markdown",
      "metadata": {
        "id": "yaM9X60HNaog"
      },
      "source": [
        "---\n",
        "### Categorical variables"
      ]
    },
    {
      "cell_type": "code",
      "metadata": {
        "colab": {
          "base_uri": "https://localhost:8080/",
          "height": 390
        },
        "id": "i4Er6EgeMm7c",
        "outputId": "59bc5d20-e021-4f08-da8f-59333917840b"
      },
      "source": [
        "data.describe(include=[\"object\"]).T"
      ],
      "execution_count": 9,
      "outputs": [
        {
          "output_type": "execute_result",
          "data": {
            "text/html": [
              "<div>\n",
              "<style scoped>\n",
              "    .dataframe tbody tr th:only-of-type {\n",
              "        vertical-align: middle;\n",
              "    }\n",
              "\n",
              "    .dataframe tbody tr th {\n",
              "        vertical-align: top;\n",
              "    }\n",
              "\n",
              "    .dataframe thead th {\n",
              "        text-align: right;\n",
              "    }\n",
              "</style>\n",
              "<table border=\"1\" class=\"dataframe\">\n",
              "  <thead>\n",
              "    <tr style=\"text-align: right;\">\n",
              "      <th></th>\n",
              "      <th>count</th>\n",
              "      <th>unique</th>\n",
              "      <th>top</th>\n",
              "      <th>freq</th>\n",
              "    </tr>\n",
              "  </thead>\n",
              "  <tbody>\n",
              "    <tr>\n",
              "      <th>manufacturer</th>\n",
              "      <td>439993</td>\n",
              "      <td>43</td>\n",
              "      <td>ford</td>\n",
              "      <td>79666</td>\n",
              "    </tr>\n",
              "    <tr>\n",
              "      <th>condition</th>\n",
              "      <td>265273</td>\n",
              "      <td>6</td>\n",
              "      <td>good</td>\n",
              "      <td>115685</td>\n",
              "    </tr>\n",
              "    <tr>\n",
              "      <th>cylinders</th>\n",
              "      <td>287073</td>\n",
              "      <td>8</td>\n",
              "      <td>6 cylinders</td>\n",
              "      <td>105677</td>\n",
              "    </tr>\n",
              "    <tr>\n",
              "      <th>fuel</th>\n",
              "      <td>454976</td>\n",
              "      <td>5</td>\n",
              "      <td>gas</td>\n",
              "      <td>399399</td>\n",
              "    </tr>\n",
              "    <tr>\n",
              "      <th>title_status</th>\n",
              "      <td>455636</td>\n",
              "      <td>6</td>\n",
              "      <td>clean</td>\n",
              "      <td>439626</td>\n",
              "    </tr>\n",
              "    <tr>\n",
              "      <th>transmission</th>\n",
              "      <td>455771</td>\n",
              "      <td>3</td>\n",
              "      <td>automatic</td>\n",
              "      <td>396322</td>\n",
              "    </tr>\n",
              "    <tr>\n",
              "      <th>drive</th>\n",
              "      <td>324025</td>\n",
              "      <td>3</td>\n",
              "      <td>4wd</td>\n",
              "      <td>139693</td>\n",
              "    </tr>\n",
              "    <tr>\n",
              "      <th>size</th>\n",
              "      <td>136865</td>\n",
              "      <td>4</td>\n",
              "      <td>full-size</td>\n",
              "      <td>69736</td>\n",
              "    </tr>\n",
              "    <tr>\n",
              "      <th>type</th>\n",
              "      <td>345475</td>\n",
              "      <td>13</td>\n",
              "      <td>sedan</td>\n",
              "      <td>92364</td>\n",
              "    </tr>\n",
              "    <tr>\n",
              "      <th>paint_color</th>\n",
              "      <td>317370</td>\n",
              "      <td>12</td>\n",
              "      <td>white</td>\n",
              "      <td>82786</td>\n",
              "    </tr>\n",
              "    <tr>\n",
              "      <th>state</th>\n",
              "      <td>458213</td>\n",
              "      <td>51</td>\n",
              "      <td>ca</td>\n",
              "      <td>51856</td>\n",
              "    </tr>\n",
              "  </tbody>\n",
              "</table>\n",
              "</div>"
            ],
            "text/plain": [
              "               count unique          top    freq\n",
              "manufacturer  439993     43         ford   79666\n",
              "condition     265273      6         good  115685\n",
              "cylinders     287073      8  6 cylinders  105677\n",
              "fuel          454976      5          gas  399399\n",
              "title_status  455636      6        clean  439626\n",
              "transmission  455771      3    automatic  396322\n",
              "drive         324025      3          4wd  139693\n",
              "size          136865      4    full-size   69736\n",
              "type          345475     13        sedan   92364\n",
              "paint_color   317370     12        white   82786\n",
              "state         458213     51           ca   51856"
            ]
          },
          "metadata": {
            "tags": []
          },
          "execution_count": 9
        }
      ]
    },
    {
      "cell_type": "markdown",
      "metadata": {
        "id": "28s22HC0P10G"
      },
      "source": [
        "## Remove outliers\n"
      ]
    },
    {
      "cell_type": "markdown",
      "metadata": {
        "id": "2iIRn_KkaiS2"
      },
      "source": [
        "### Price\n",
        "For price, we can see that this is really a problem"
      ]
    },
    {
      "cell_type": "code",
      "metadata": {
        "colab": {
          "base_uri": "https://localhost:8080/",
          "height": 307
        },
        "id": "ScziI9rcPUWx",
        "outputId": "48617701-e107-4135-da1c-66318b28ae5d"
      },
      "source": [
        "sns.distplot(data['price'], bins=10,kde_kws={'bw': 2})"
      ],
      "execution_count": 10,
      "outputs": [
        {
          "output_type": "execute_result",
          "data": {
            "text/plain": [
              "<matplotlib.axes._subplots.AxesSubplot at 0x7fdc06db9890>"
            ]
          },
          "metadata": {
            "tags": []
          },
          "execution_count": 10
        },
        {
          "output_type": "display_data",
          "data": {
            "image/png": "[encoded data removed]",
            "text/plain": [
              "<Figure size 432x288 with 1 Axes>"
            ]
          },
          "metadata": {
            "tags": [],
            "needs_background": "light"
          }
        }
      ]
    },
    {
      "cell_type": "code",
      "metadata": {
        "colab": {
          "base_uri": "https://localhost:8080/"
        },
        "id": "-blON9MOPcnJ",
        "outputId": "7a78ad6a-50fb-444d-a54c-da51501fc99a"
      },
      "source": [
        "for i in [1,5,10,50,90,95,99.9,99.99]:\n",
        "  print(\"{}% of cars have prices below {}\".format(i,data['price'].quantile(i/100)))\n",
        "sum(data['price'] > 100000)"
      ],
      "execution_count": 11,
      "outputs": [
        {
          "output_type": "stream",
          "text": [
            "1% of cars have prices below 0.0\n",
            "5% of cars have prices below 0.0\n",
            "10% of cars have prices below 651.0\n",
            "50% of cars have prices below 10995.0\n",
            "90% of cars have prices below 33500.0\n",
            "95% of cars have prices below 39990.0\n",
            "99.9% of cars have prices below 119800.0\n",
            "99.99% of cars have prices below 999999.1787999999\n"
          ],
          "name": "stdout"
        },
        {
          "output_type": "execute_result",
          "data": {
            "text/plain": [
              "596"
            ]
          },
          "metadata": {
            "tags": []
          },
          "execution_count": 11
        }
      ]
    },
    {
      "cell_type": "code",
      "metadata": {
        "colab": {
          "base_uri": "https://localhost:8080/",
          "height": 299
        },
        "id": "2lvak4rHQoax",
        "outputId": "a2b46de0-c614-44e4-c191-39369e790051"
      },
      "source": [
        "sns.distplot(data['price'].loc[data['price'] < 40000], bins=50,kde_kws={'bw': 2})"
      ],
      "execution_count": 12,
      "outputs": [
        {
          "output_type": "execute_result",
          "data": {
            "text/plain": [
              "<matplotlib.axes._subplots.AxesSubplot at 0x7fdbf00a5410>"
            ]
          },
          "metadata": {
            "tags": []
          },
          "execution_count": 12
        },
        {
          "output_type": "display_data",
          "data": {
            "image/png": "[encoded data removed]",
            "text/plain": [
              "<Figure size 432x288 with 1 Axes>"
            ]
          },
          "metadata": {
            "tags": [],
            "needs_background": "light"
          }
        }
      ]
    },
    {
      "cell_type": "markdown",
      "metadata": {
        "id": "zDqYLBkERt69"
      },
      "source": [
        "Two observations from the above plot:\n",
        "\n",
        "1.   There are lots of extremely small values i.e. price = 0?\n",
        "2.   Log transformation of prices would make our **price** columns more \"normal\" looking and better fit our prediction models.\n",
        "\n"
      ]
    },
    {
      "cell_type": "code",
      "metadata": {
        "colab": {
          "base_uri": "https://localhost:8080/"
        },
        "id": "cTlAtimhRtVA",
        "outputId": "399b53e6-058e-431c-a41e-66187eb3e81c"
      },
      "source": [
        "print(\"There are {} listings with price = 0, and {} listings have price below 1\".format(sum(data['price']==0), sum(data['price']<=1)))\n"
      ],
      "execution_count": 13,
      "outputs": [
        {
          "output_type": "stream",
          "text": [
            "There are 33753 listings with price = 0, and 35230 listings have price below 1\n"
          ],
          "name": "stdout"
        }
      ]
    },
    {
      "cell_type": "markdown",
      "metadata": {
        "id": "DE2A1y_SbTC8"
      },
      "source": [
        "> Let's remove the outlier listings by price"
      ]
    },
    {
      "cell_type": "code",
      "metadata": {
        "id": "aU-6ZBeebTOV"
      },
      "source": [
        "data = data.loc[(data['price'] >= 500) & (data['price'] <= 40000)]"
      ],
      "execution_count": 14,
      "outputs": []
    },
    {
      "cell_type": "code",
      "metadata": {
        "colab": {
          "base_uri": "https://localhost:8080/",
          "height": 307
        },
        "id": "n4j0m8qFTdMb",
        "outputId": "72e4eacc-af91-40dc-c62f-e57301fa222c"
      },
      "source": [
        "sns.distplot(data['price'], bins=50,kde_kws={'bw': 2})"
      ],
      "execution_count": 15,
      "outputs": [
        {
          "output_type": "execute_result",
          "data": {
            "text/plain": [
              "<matplotlib.axes._subplots.AxesSubplot at 0x7fdbefaf8c10>"
            ]
          },
          "metadata": {
            "tags": []
          },
          "execution_count": 15
        },
        {
          "output_type": "display_data",
          "data": {
            "image/png": "[encoded data removed]",
            "text/plain": [
              "<Figure size 432x288 with 1 Axes>"
            ]
          },
          "metadata": {
            "tags": [],
            "needs_background": "light"
          }
        }
      ]
    },
    {
      "cell_type": "code",
      "metadata": {
        "colab": {
          "base_uri": "https://localhost:8080/",
          "height": 307
        },
        "id": "WY_jpfRVUc6U",
        "outputId": "0610c5b3-2cd1-4ce7-cced-d19fd8a89e85"
      },
      "source": [
        "sns.distplot(data['odometer'], bins=50,kde_kws={'bw': 1.5})"
      ],
      "execution_count": 16,
      "outputs": [
        {
          "output_type": "execute_result",
          "data": {
            "text/plain": [
              "<matplotlib.axes._subplots.AxesSubplot at 0x7fdc05c9f050>"
            ]
          },
          "metadata": {
            "tags": []
          },
          "execution_count": 16
        },
        {
          "output_type": "display_data",
          "data": {
            "image/png": "[encoded data removed]",
            "text/plain": [
              "<Figure size 432x288 with 1 Axes>"
            ]
          },
          "metadata": {
            "tags": [],
            "needs_background": "light"
          }
        }
      ]
    },
    {
      "cell_type": "markdown",
      "metadata": {
        "id": "JMhDuPNrYRpP"
      },
      "source": [
        "### Odometer"
      ]
    },
    {
      "cell_type": "code",
      "metadata": {
        "colab": {
          "base_uri": "https://localhost:8080/"
        },
        "id": "S4gDeveQUj9J",
        "outputId": "9e752031-2d1f-454f-fa84-3928df35a60a"
      },
      "source": [
        "for i in [1,5,10,50,90,95,99.9,99.99]:\n",
        "  print(\"{}% of cars have mileage below {:d}\".format(i,int(data['odometer'].quantile(i/100))))\n",
        "\n",
        "print(\"\\n{} cars have mileage over 200000\".format(sum(data['odometer'] > 200000) ))\n",
        "print(\"{} cars have mileage over 300000\".format(sum(data['odometer'] > 300000) ))\n",
        "\n",
        "print(\"\\nThere are {} listings with odomoter = 0, and {} listings are cars from before 2020\".format(sum(data['odometer']==0), sum(data[data['odometer']==0]['year'] < 2020)))\n",
        "\n",
        "print(\"\\n{} have mileage below 10\".format(sum(data['odometer'] <= 10) ))\n",
        "print(\"{} have mileage below 100\".format(sum(data['odometer'] <= 100) ))\n",
        "print(\"{} have mileage below 1000\".format(sum(data['odometer'] <= 1000) ))"
      ],
      "execution_count": 17,
      "outputs": [
        {
          "output_type": "stream",
          "text": [
            "1% of cars have mileage below 105\n",
            "5% of cars have mileage below 10298\n",
            "10% of cars have mileage below 20128\n",
            "50% of cars have mileage below 94000\n",
            "90% of cars have mileage below 180192\n",
            "95% of cars have mileage below 206791\n",
            "99.9% of cars have mileage below 1069967\n",
            "99.99% of cars have mileage below 9999999\n",
            "\n",
            "20561 cars have mileage over 200000\n",
            "2138 cars have mileage over 300000\n",
            "\n",
            "There are 1177 listings with odomoter = 0, and 1145 listings are cars from before 2020\n",
            "\n",
            "2343 have mileage below 10\n",
            "3403 have mileage below 100\n",
            "6934 have mileage below 1000\n"
          ],
          "name": "stdout"
        }
      ]
    },
    {
      "cell_type": "markdown",
      "metadata": {
        "id": "-4KfwhdZYPSR"
      },
      "source": [
        "> Based on the above, let's exclude listings with mileage below 100 and over 300,000 as we are focused on *used* car analysis and it will improve prediction of our algorithm"
      ]
    },
    {
      "cell_type": "code",
      "metadata": {
        "id": "5o5Ug9DxV_zw"
      },
      "source": [
        "data = data.loc[(data['odometer'] >= 100) & (data['odometer'] <= 300000)]"
      ],
      "execution_count": 18,
      "outputs": []
    },
    {
      "cell_type": "markdown",
      "metadata": {
        "id": "BZGKMLqshnxh"
      },
      "source": [
        "### Year"
      ]
    },
    {
      "cell_type": "code",
      "metadata": {
        "colab": {
          "base_uri": "https://localhost:8080/"
        },
        "id": "JVT2QKKMho6R",
        "outputId": "2c9cb556-7328-44d5-a4c1-7e74b9938b09"
      },
      "source": [
        "for i in [1,5,10,50,90,95,99.9,99.99]:\n",
        "  print(\"{}% of cars have a vintage year earlier than {:d}\".format(i,int(data['year'].quantile(i/100))))"
      ],
      "execution_count": 19,
      "outputs": [
        {
          "output_type": "stream",
          "text": [
            "1% of cars have a vintage year earlier than 1980\n",
            "5% of cars have a vintage year earlier than 2000\n",
            "10% of cars have a vintage year earlier than 2003\n",
            "50% of cars have a vintage year earlier than 2012\n",
            "90% of cars have a vintage year earlier than 2018\n",
            "95% of cars have a vintage year earlier than 2019\n",
            "99.9% of cars have a vintage year earlier than 2020\n",
            "99.99% of cars have a vintage year earlier than 2021\n"
          ],
          "name": "stdout"
        }
      ]
    },
    {
      "cell_type": "markdown",
      "metadata": {
        "id": "-JTitkY4iDL7"
      },
      "source": [
        "> Based on the above, let's keep years 2000-2020"
      ]
    },
    {
      "cell_type": "code",
      "metadata": {
        "id": "6unkacdJiDL9"
      },
      "source": [
        "data = data.loc[(data['year'] >= 2000) & (data['year'] <= 2020)]"
      ],
      "execution_count": 20,
      "outputs": []
    },
    {
      "cell_type": "markdown",
      "metadata": {
        "id": "K4LIU3p34VSq"
      },
      "source": [
        "### Scaling Year and Odometer\n",
        "\n",
        "1. **Year**: Lets make the max year equal to zero, so we can better interpret the _year_ column as the number of years a car is old. \n",
        "2. **Odometer**: dividing mileage of a car by 1000 makes it easier to understand"
      ]
    },
    {
      "cell_type": "code",
      "metadata": {
        "id": "cE6-ZRcm4VdG"
      },
      "source": [
        "data['year'] = (data['year'] - 2000).astype(int)\n",
        "data['odometer'] = (data['odometer']/1000)"
      ],
      "execution_count": 21,
      "outputs": []
    },
    {
      "cell_type": "markdown",
      "metadata": {
        "id": "aI26-5HdiV6z"
      },
      "source": [
        "### Correlations"
      ]
    },
    {
      "cell_type": "code",
      "metadata": {
        "colab": {
          "base_uri": "https://localhost:8080/",
          "height": 297
        },
        "id": "FyOSUGAKUTPJ",
        "outputId": "f7193294-1647-4d0b-f713-8e578959da10"
      },
      "source": [
        "data.describe()"
      ],
      "execution_count": 22,
      "outputs": [
        {
          "output_type": "execute_result",
          "data": {
            "text/html": [
              "<div>\n",
              "<style scoped>\n",
              "    .dataframe tbody tr th:only-of-type {\n",
              "        vertical-align: middle;\n",
              "    }\n",
              "\n",
              "    .dataframe tbody tr th {\n",
              "        vertical-align: top;\n",
              "    }\n",
              "\n",
              "    .dataframe thead th {\n",
              "        text-align: right;\n",
              "    }\n",
              "</style>\n",
              "<table border=\"1\" class=\"dataframe\">\n",
              "  <thead>\n",
              "    <tr style=\"text-align: right;\">\n",
              "      <th></th>\n",
              "      <th>price</th>\n",
              "      <th>year</th>\n",
              "      <th>odometer</th>\n",
              "    </tr>\n",
              "  </thead>\n",
              "  <tbody>\n",
              "    <tr>\n",
              "      <th>count</th>\n",
              "      <td>325885.000000</td>\n",
              "      <td>325885.000000</td>\n",
              "      <td>325885.000000</td>\n",
              "    </tr>\n",
              "    <tr>\n",
              "      <th>mean</th>\n",
              "      <td>15145.781417</td>\n",
              "      <td>12.009061</td>\n",
              "      <td>96.669308</td>\n",
              "    </tr>\n",
              "    <tr>\n",
              "      <th>std</th>\n",
              "      <td>10107.930898</td>\n",
              "      <td>4.833403</td>\n",
              "      <td>59.094158</td>\n",
              "    </tr>\n",
              "    <tr>\n",
              "      <th>min</th>\n",
              "      <td>500.000000</td>\n",
              "      <td>0.000000</td>\n",
              "      <td>0.100000</td>\n",
              "    </tr>\n",
              "    <tr>\n",
              "      <th>25%</th>\n",
              "      <td>6900.000000</td>\n",
              "      <td>8.000000</td>\n",
              "      <td>46.894000</td>\n",
              "    </tr>\n",
              "    <tr>\n",
              "      <th>50%</th>\n",
              "      <td>12990.000000</td>\n",
              "      <td>13.000000</td>\n",
              "      <td>93.401000</td>\n",
              "    </tr>\n",
              "    <tr>\n",
              "      <th>75%</th>\n",
              "      <td>21990.000000</td>\n",
              "      <td>16.000000</td>\n",
              "      <td>137.605000</td>\n",
              "    </tr>\n",
              "    <tr>\n",
              "      <th>max</th>\n",
              "      <td>40000.000000</td>\n",
              "      <td>20.000000</td>\n",
              "      <td>300.000000</td>\n",
              "    </tr>\n",
              "  </tbody>\n",
              "</table>\n",
              "</div>"
            ],
            "text/plain": [
              "               price           year       odometer\n",
              "count  325885.000000  325885.000000  325885.000000\n",
              "mean    15145.781417      12.009061      96.669308\n",
              "std     10107.930898       4.833403      59.094158\n",
              "min       500.000000       0.000000       0.100000\n",
              "25%      6900.000000       8.000000      46.894000\n",
              "50%     12990.000000      13.000000      93.401000\n",
              "75%     21990.000000      16.000000     137.605000\n",
              "max     40000.000000      20.000000     300.000000"
            ]
          },
          "metadata": {
            "tags": []
          },
          "execution_count": 22
        }
      ]
    },
    {
      "cell_type": "code",
      "metadata": {
        "colab": {
          "base_uri": "https://localhost:8080/",
          "height": 320
        },
        "id": "uvkehWaRgWVT",
        "outputId": "28b74646-01dc-4791-e384-6dbb39f8d74e"
      },
      "source": [
        "plt.figure(figsize=(8,5))\n",
        "corr=data.corr()\n",
        "mask=np.zeros_like(corr,dtype=np.bool)\n",
        "mask[np.triu_indices_from(mask)]=True\n",
        "sns.heatmap(corr,annot=True,cmap=\"flare\",mask=mask);\n",
        "sns.set_context(\"notebook\", font_scale=1.5, rc={\"lines.linewidth\": 2.5});"
      ],
      "execution_count": 23,
      "outputs": [
        {
          "output_type": "display_data",
          "data": {
            "image/png": "[encoded data removed]",
            "text/plain": [
              "<Figure size 576x360 with 2 Axes>"
            ]
          },
          "metadata": {
            "tags": [],
            "needs_background": "light"
          }
        }
      ]
    },
    {
      "cell_type": "markdown",
      "metadata": {
        "id": "-kx9iJXphWnv"
      },
      "source": [
        "#### Observations\n",
        "\n",
        "\n",
        "1. 0.62 correlation between year and price of a car\n",
        "2. -0.56 correlation between odometer and price of a car\n",
        "\n"
      ]
    },
    {
      "cell_type": "markdown",
      "metadata": {
        "id": "tnYDclb08DLf"
      },
      "source": [
        "### Drop missing data"
      ]
    },
    {
      "cell_type": "code",
      "metadata": {
        "colab": {
          "base_uri": "https://localhost:8080/",
          "height": 359
        },
        "id": "pxBvzem48DLf",
        "outputId": "d4d26b2a-1069-4797-e66b-ef6d9e5ed597"
      },
      "source": [
        "data_na = 100 * (data.isnull().sum() / len(data))\n",
        "data_na = data_na.drop(data_na[data_na == 0].index).sort_values(ascending=False)\n",
        "missing_data = pd.DataFrame({'% missing':round(data_na,1)})\n",
        "missing_data.head(20)"
      ],
      "execution_count": 24,
      "outputs": [
        {
          "output_type": "execute_result",
          "data": {
            "text/html": [
              "<div>\n",
              "<style scoped>\n",
              "    .dataframe tbody tr th:only-of-type {\n",
              "        vertical-align: middle;\n",
              "    }\n",
              "\n",
              "    .dataframe tbody tr th {\n",
              "        vertical-align: top;\n",
              "    }\n",
              "\n",
              "    .dataframe thead th {\n",
              "        text-align: right;\n",
              "    }\n",
              "</style>\n",
              "<table border=\"1\" class=\"dataframe\">\n",
              "  <thead>\n",
              "    <tr style=\"text-align: right;\">\n",
              "      <th></th>\n",
              "      <th>% missing</th>\n",
              "    </tr>\n",
              "  </thead>\n",
              "  <tbody>\n",
              "    <tr>\n",
              "      <th>size</th>\n",
              "      <td>68.7</td>\n",
              "    </tr>\n",
              "    <tr>\n",
              "      <th>condition</th>\n",
              "      <td>36.9</td>\n",
              "    </tr>\n",
              "    <tr>\n",
              "      <th>cylinders</th>\n",
              "      <td>32.8</td>\n",
              "    </tr>\n",
              "    <tr>\n",
              "      <th>drive</th>\n",
              "      <td>24.6</td>\n",
              "    </tr>\n",
              "    <tr>\n",
              "      <th>paint_color</th>\n",
              "      <td>24.4</td>\n",
              "    </tr>\n",
              "    <tr>\n",
              "      <th>type</th>\n",
              "      <td>18.5</td>\n",
              "    </tr>\n",
              "    <tr>\n",
              "      <th>manufacturer</th>\n",
              "      <td>2.3</td>\n",
              "    </tr>\n",
              "    <tr>\n",
              "      <th>fuel</th>\n",
              "      <td>0.6</td>\n",
              "    </tr>\n",
              "    <tr>\n",
              "      <th>title_status</th>\n",
              "      <td>0.4</td>\n",
              "    </tr>\n",
              "    <tr>\n",
              "      <th>transmission</th>\n",
              "      <td>0.4</td>\n",
              "    </tr>\n",
              "  </tbody>\n",
              "</table>\n",
              "</div>"
            ],
            "text/plain": [
              "              % missing\n",
              "size               68.7\n",
              "condition          36.9\n",
              "cylinders          32.8\n",
              "drive              24.6\n",
              "paint_color        24.4\n",
              "type               18.5\n",
              "manufacturer        2.3\n",
              "fuel                0.6\n",
              "title_status        0.4\n",
              "transmission        0.4"
            ]
          },
          "metadata": {
            "tags": []
          },
          "execution_count": 24
        }
      ]
    },
    {
      "cell_type": "code",
      "metadata": {
        "colab": {
          "base_uri": "https://localhost:8080/",
          "height": 221
        },
        "id": "pEVgP1NN8DLg",
        "outputId": "5bbbeb9b-b27a-4ace-c19c-469c56aef16a"
      },
      "source": [
        "df = data.dropna()\n",
        "df.reset_index(inplace=True)\n",
        "df = df.drop(['index'],axis=1)\n",
        "print(df.shape)\n",
        "df.head()"
      ],
      "execution_count": 25,
      "outputs": [
        {
          "output_type": "stream",
          "text": [
            "(74740, 14)\n"
          ],
          "name": "stdout"
        },
        {
          "output_type": "execute_result",
          "data": {
            "text/html": [
              "<div>\n",
              "<style scoped>\n",
              "    .dataframe tbody tr th:only-of-type {\n",
              "        vertical-align: middle;\n",
              "    }\n",
              "\n",
              "    .dataframe tbody tr th {\n",
              "        vertical-align: top;\n",
              "    }\n",
              "\n",
              "    .dataframe thead th {\n",
              "        text-align: right;\n",
              "    }\n",
              "</style>\n",
              "<table border=\"1\" class=\"dataframe\">\n",
              "  <thead>\n",
              "    <tr style=\"text-align: right;\">\n",
              "      <th></th>\n",
              "      <th>price</th>\n",
              "      <th>year</th>\n",
              "      <th>manufacturer</th>\n",
              "      <th>condition</th>\n",
              "      <th>cylinders</th>\n",
              "      <th>fuel</th>\n",
              "      <th>odometer</th>\n",
              "      <th>title_status</th>\n",
              "      <th>transmission</th>\n",
              "      <th>drive</th>\n",
              "      <th>size</th>\n",
              "      <th>type</th>\n",
              "      <th>paint_color</th>\n",
              "      <th>state</th>\n",
              "    </tr>\n",
              "  </thead>\n",
              "  <tbody>\n",
              "    <tr>\n",
              "      <th>0</th>\n",
              "      <td>19500</td>\n",
              "      <td>5</td>\n",
              "      <td>ford</td>\n",
              "      <td>excellent</td>\n",
              "      <td>8 cylinders</td>\n",
              "      <td>diesel</td>\n",
              "      <td>116.000</td>\n",
              "      <td>lien</td>\n",
              "      <td>automatic</td>\n",
              "      <td>4wd</td>\n",
              "      <td>full-size</td>\n",
              "      <td>pickup</td>\n",
              "      <td>blue</td>\n",
              "      <td>al</td>\n",
              "    </tr>\n",
              "    <tr>\n",
              "      <th>1</th>\n",
              "      <td>4900</td>\n",
              "      <td>3</td>\n",
              "      <td>ford</td>\n",
              "      <td>good</td>\n",
              "      <td>8 cylinders</td>\n",
              "      <td>gas</td>\n",
              "      <td>177.000</td>\n",
              "      <td>clean</td>\n",
              "      <td>automatic</td>\n",
              "      <td>rwd</td>\n",
              "      <td>full-size</td>\n",
              "      <td>SUV</td>\n",
              "      <td>blue</td>\n",
              "      <td>al</td>\n",
              "    </tr>\n",
              "    <tr>\n",
              "      <th>2</th>\n",
              "      <td>6250</td>\n",
              "      <td>10</td>\n",
              "      <td>ford</td>\n",
              "      <td>good</td>\n",
              "      <td>6 cylinders</td>\n",
              "      <td>gas</td>\n",
              "      <td>82.000</td>\n",
              "      <td>clean</td>\n",
              "      <td>automatic</td>\n",
              "      <td>fwd</td>\n",
              "      <td>full-size</td>\n",
              "      <td>sedan</td>\n",
              "      <td>silver</td>\n",
              "      <td>al</td>\n",
              "    </tr>\n",
              "    <tr>\n",
              "      <th>3</th>\n",
              "      <td>27500</td>\n",
              "      <td>15</td>\n",
              "      <td>jeep</td>\n",
              "      <td>like new</td>\n",
              "      <td>6 cylinders</td>\n",
              "      <td>gas</td>\n",
              "      <td>84.000</td>\n",
              "      <td>lien</td>\n",
              "      <td>automatic</td>\n",
              "      <td>4wd</td>\n",
              "      <td>full-size</td>\n",
              "      <td>SUV</td>\n",
              "      <td>white</td>\n",
              "      <td>al</td>\n",
              "    </tr>\n",
              "    <tr>\n",
              "      <th>4</th>\n",
              "      <td>24999</td>\n",
              "      <td>16</td>\n",
              "      <td>mercedes-benz</td>\n",
              "      <td>like new</td>\n",
              "      <td>4 cylinders</td>\n",
              "      <td>gas</td>\n",
              "      <td>18.823</td>\n",
              "      <td>clean</td>\n",
              "      <td>automatic</td>\n",
              "      <td>rwd</td>\n",
              "      <td>full-size</td>\n",
              "      <td>sedan</td>\n",
              "      <td>white</td>\n",
              "      <td>al</td>\n",
              "    </tr>\n",
              "  </tbody>\n",
              "</table>\n",
              "</div>"
            ],
            "text/plain": [
              "   price  year   manufacturer  condition  ...       size    type  paint_color state\n",
              "0  19500     5           ford  excellent  ...  full-size  pickup         blue    al\n",
              "1   4900     3           ford       good  ...  full-size     SUV         blue    al\n",
              "2   6250    10           ford       good  ...  full-size   sedan       silver    al\n",
              "3  27500    15           jeep   like new  ...  full-size     SUV        white    al\n",
              "4  24999    16  mercedes-benz   like new  ...  full-size   sedan        white    al\n",
              "\n",
              "[5 rows x 14 columns]"
            ]
          },
          "metadata": {
            "tags": []
          },
          "execution_count": 25
        }
      ]
    },
    {
      "cell_type": "markdown",
      "metadata": {
        "id": "lKcQzWTWOzYG"
      },
      "source": [
        "### Format numerical columns\n",
        "Convert year and odometer i.e. mileage, to integers from float"
      ]
    },
    {
      "cell_type": "code",
      "metadata": {
        "colab": {
          "base_uri": "https://localhost:8080/"
        },
        "id": "3_EWLIjd8DLg",
        "outputId": "24e5cd00-28a8-44a3-ceb7-3c79c2a5d75c"
      },
      "source": [
        "df.info()"
      ],
      "execution_count": 26,
      "outputs": [
        {
          "output_type": "stream",
          "text": [
            "<class 'pandas.core.frame.DataFrame'>\n",
            "RangeIndex: 74740 entries, 0 to 74739\n",
            "Data columns (total 14 columns):\n",
            " #   Column        Non-Null Count  Dtype  \n",
            "---  ------        --------------  -----  \n",
            " 0   price         74740 non-null  int64  \n",
            " 1   year          74740 non-null  int64  \n",
            " 2   manufacturer  74740 non-null  object \n",
            " 3   condition     74740 non-null  object \n",
            " 4   cylinders     74740 non-null  object \n",
            " 5   fuel          74740 non-null  object \n",
            " 6   odometer      74740 non-null  float64\n",
            " 7   title_status  74740 non-null  object \n",
            " 8   transmission  74740 non-null  object \n",
            " 9   drive         74740 non-null  object \n",
            " 10  size          74740 non-null  object \n",
            " 11  type          74740 non-null  object \n",
            " 12  paint_color   74740 non-null  object \n",
            " 13  state         74740 non-null  object \n",
            "dtypes: float64(1), int64(2), object(11)\n",
            "memory usage: 8.0+ MB\n"
          ],
          "name": "stdout"
        }
      ]
    },
    {
      "cell_type": "markdown",
      "metadata": {
        "id": "hKegTCkZ8DLh"
      },
      "source": [
        "## The Top 10 most popular manufacturers"
      ]
    },
    {
      "cell_type": "code",
      "metadata": {
        "colab": {
          "base_uri": "https://localhost:8080/"
        },
        "id": "yL7n-eiJ8DLh",
        "outputId": "90365fba-d4ce-4772-9c15-815c1a01ca3d"
      },
      "source": [
        "top10_cars = df.manufacturer.value_counts().head(10)\n",
        "print(\"Total number of cars: {}\".format(df.shape[0]))\n",
        "print(pd.DataFrame({\"# listings\":top10_cars,\"% of total\" : round(top10_cars*100/df.shape[0],1)}))"
      ],
      "execution_count": 27,
      "outputs": [
        {
          "output_type": "stream",
          "text": [
            "Total number of cars: 74740\n",
            "           # listings  % of total\n",
            "ford            13392        17.9\n",
            "chevrolet       10764        14.4\n",
            "toyota           6888         9.2\n",
            "honda            5280         7.1\n",
            "nissan           4434         5.9\n",
            "jeep             2977         4.0\n",
            "gmc              2800         3.7\n",
            "dodge            2733         3.7\n",
            "ram              2345         3.1\n",
            "hyundai          2102         2.8\n"
          ],
          "name": "stdout"
        }
      ]
    },
    {
      "cell_type": "code",
      "metadata": {
        "colab": {
          "base_uri": "https://localhost:8080/",
          "height": 410
        },
        "id": "MZjrGXDq8DLh",
        "outputId": "0366bcb7-c826-4d9f-a2be-5054acb12a45"
      },
      "source": [
        "plt.figure(figsize=(10,6))\n",
        "ax = sns.countplot(x='year',data=df,color='#00BFFF');#,palette=\"Blues\");\n",
        "ax.set_xticklabels(ax.get_xticklabels(), rotation=90, ha=\"right\");\n",
        "ax.set(xlabel='Year (year_0 = 2000)',ylabel='# Cars')\n",
        "sns.set_context(\"notebook\", font_scale=1.5, rc={\"lines.linewidth\": 2.5});"
      ],
      "execution_count": 28,
      "outputs": [
        {
          "output_type": "display_data",
          "data": {
            "image/png": "[encoded data removed]",
            "text/plain": [
              "<Figure size 720x432 with 1 Axes>"
            ]
          },
          "metadata": {
            "tags": [],
            "needs_background": "light"
          }
        }
      ]
    },
    {
      "cell_type": "markdown",
      "metadata": {
        "id": "_0g4a3RQjA82"
      },
      "source": [
        "#### Observations\n",
        "> Interesting to see a drop in 2009 from 2008, which must be due to the Global Financial Crisis. It did pick up in the following years.\n",
        "\n",
        "> We also observe a huge few drop from cars listed 3 years and older to cars listed  are listed that are less than 2 years old. It could be that people generally prefer to drive a car for atleast 2-3 years before bringing it to the used car market."
      ]
    },
    {
      "cell_type": "markdown",
      "metadata": {
        "id": "C8ESJi6_jv9_"
      },
      "source": [
        "# Prediction model"
      ]
    },
    {
      "cell_type": "markdown",
      "metadata": {
        "id": "rWPe4dWnj-tx"
      },
      "source": [
        "## Build the variables"
      ]
    },
    {
      "cell_type": "code",
      "metadata": {
        "id": "aufAxnv38DLi",
        "colab": {
          "base_uri": "https://localhost:8080/"
        },
        "outputId": "26e44ba1-3f05-4306-c352-2d6f7eb13a5f"
      },
      "source": [
        "cat_col_count = dict()\n",
        "cat_vars = df.select_dtypes(include=['object']).copy().columns\n",
        "for var in  cat_vars:\n",
        "    # TODO: make sure that there are at least 10 unique rows, ie. cars,\n",
        "    # for each attribute we want to make a column to have\n",
        "    # a meaningful training set\n",
        "    # df = df[df.groupby(var)[var].transform('size') >= 1]\n",
        "\n",
        "    # make a record of the unique column attribute\n",
        "    cat_col_count[var] = len(df[var].unique())\n",
        "    # for each cat add dummy var, drop original column\n",
        "    df = pd.concat([df.drop(var, axis=1), pd.get_dummies(df[var], prefix=var, prefix_sep='_', drop_first=True)], axis=1)\n",
        "\n",
        "\n",
        "df.reset_index(inplace=True)\n",
        "y = df['price']\n",
        "X = df.drop(['price','index'], axis=1)\n",
        "\n",
        "print(pd.DataFrame(cat_col_count,index=['Categorical_variables']).transpose())\n",
        "print(\"Shape of X (specifications of a car): {}\".format(X.shape))\n",
        "print(\"Number of y (price of a car): {}\".format(y.shape[0]))"
      ],
      "execution_count": 29,
      "outputs": [
        {
          "output_type": "stream",
          "text": [
            "              Categorical_variables\n",
            "manufacturer                     39\n",
            "condition                         6\n",
            "cylinders                         8\n",
            "fuel                              5\n",
            "title_status                      6\n",
            "transmission                      3\n",
            "drive                             3\n",
            "size                              4\n",
            "type                             13\n",
            "paint_color                      12\n",
            "state                            51\n",
            "Shape of X (specifications of a car): (74740, 141)\n",
            "Number of y (price of a car): 74740\n"
          ],
          "name": "stdout"
        }
      ]
    },
    {
      "cell_type": "markdown",
      "metadata": {
        "id": "7qM6eE5NUkWz"
      },
      "source": [
        "### Find the optimal linear regression model for our data"
      ]
    },
    {
      "cell_type": "code",
      "metadata": {
        "id": "vQryFfO88DLn"
      },
      "source": [
        "def find_optimal_lm_mod(X, y, cutoffs, test_size = .30, random_state=42, plot=True):\n",
        "    '''\n",
        "    SOURCE: taken from Udacity - Data Science course\n",
        "    INPUT\n",
        "    X - pandas dataframe, X matrix\n",
        "    y - pandas dataframe, response variable\n",
        "    cutoffs - list of ints, cutoff for number of non-zero values in dummy categorical vars\n",
        "    test_size - float between 0 and 1, default 0.3, determines the proportion of data as test data\n",
        "    random_state - int, default 42, controls random state for train_test_split\n",
        "    plot - boolean, default 0.3, True to plot result\n",
        "\n",
        "    OUTPUT\n",
        "    r2_scores_test - list of floats of r2 scores on the test data\n",
        "    r2_scores_train - list of floats of r2 scores on the train data\n",
        "    lm_model - model object from sklearn\n",
        "    X_train, X_test, y_train, y_test - output from sklearn train test split used for optimal model\n",
        "    '''\n",
        "    r2_scores_test, r2_scores_train, num_feats, results = [], [], [], dict()\n",
        "    for cutoff in cutoffs:\n",
        "\n",
        "        #reduce X matrix\n",
        "        reduce_X = X.iloc[:, np.where((X.sum() > cutoff) == True)[0]]\n",
        "        num_feats.append(reduce_X.shape[1])\n",
        "\n",
        "        #split the data into train and test\n",
        "        X_train, X_test, y_train, y_test = train_test_split(reduce_X, y, test_size = test_size, random_state=random_state)\n",
        "\n",
        "        #fit the model and obtain pred response\n",
        "        lm_model = LinearRegression(normalize=True)\n",
        "        lm_model.fit(X_train, y_train)\n",
        "        y_test_preds = lm_model.predict(X_test)\n",
        "        y_train_preds = lm_model.predict(X_train)\n",
        "\n",
        "        #append the r2 value from the test set\n",
        "        r2_scores_test.append(r2_score(y_test, y_test_preds))\n",
        "        r2_scores_train.append(r2_score(y_train, y_train_preds))\n",
        "        results[str(cutoff)] = r2_score(y_test, y_test_preds)\n",
        "\n",
        "    if plot:\n",
        "        plt.plot(num_feats, r2_scores_test, label=\"Test\", alpha=.5)\n",
        "        plt.plot(num_feats, r2_scores_train, label=\"Train\", alpha=.5)\n",
        "        plt.xlabel('Number of Features')\n",
        "        plt.ylabel('Rsquared')\n",
        "        plt.title('Rsquared by Number of Features')\n",
        "        plt.legend(loc=1)\n",
        "        plt.show()\n",
        "\n",
        "    best_cutoff = max(results, key=results.get)\n",
        "\n",
        "    #reduce X matrix\n",
        "    reduce_X = X.iloc[:, np.where((X.sum() > int(best_cutoff)) == True)[0]]\n",
        "    num_feats.append(reduce_X.shape[1])\n",
        "\n",
        "    #split the data into train and test\n",
        "    X_train, X_test, y_train, y_test = train_test_split(reduce_X, y, test_size = test_size, random_state=random_state)\n",
        "\n",
        "    #fit the model\n",
        "    lm_model = LinearRegression(normalize=True)\n",
        "    lm_model.fit(X_train, y_train)\n",
        "\n",
        "    return r2_scores_test, r2_scores_train, lm_model, X_train, X_test, y_train, y_test"
      ],
      "execution_count": 30,
      "outputs": []
    },
    {
      "cell_type": "code",
      "metadata": {
        "colab": {
          "base_uri": "https://localhost:8080/",
          "height": 318
        },
        "id": "dRtZeF-18DLo",
        "outputId": "fcae0114-6c5f-4d12-9b06-6530a1a7918f"
      },
      "source": [
        "# cutoffs here pertains to the number of missing values allowed in the used columns.\n",
        "# Therefore, lower values for the cutoff provides more predictors in the model.\n",
        "cutoffs = [5000, 3000, 2000, 1000, 100, 50, 10]\n",
        "\n",
        "r2_scores_test, r2_scores_train, lm_model, X_train, X_test, y_train, y_test = find_optimal_lm_mod(X, y, cutoffs)"
      ],
      "execution_count": 31,
      "outputs": [
        {
          "output_type": "display_data",
          "data": {
            "image/png": "[encoded data removed]",
            "text/plain": [
              "<Figure size 432x288 with 1 Axes>"
            ]
          },
          "metadata": {
            "tags": [],
            "needs_background": "light"
          }
        }
      ]
    },
    {
      "cell_type": "code",
      "metadata": {
        "colab": {
          "base_uri": "https://localhost:8080/"
        },
        "id": "18LgKNjY8DLo",
        "outputId": "d2d324a9-26bd-47a0-eb1e-b4c1ed6f644e"
      },
      "source": [
        "print(X_train.shape[1]) #Number of columns\n",
        "print(r2_scores_test[np.argmax(r2_scores_test)]) # The model we should implement test_r2\n",
        "print(r2_scores_train[np.argmax(r2_scores_test)]) # The model we should implement train_r2"
      ],
      "execution_count": 34,
      "outputs": [
        {
          "output_type": "stream",
          "text": [
            "139\n",
            "0.7502517290488201\n",
            "0.7509545020996449\n"
          ],
          "name": "stdout"
        }
      ]
    },
    {
      "cell_type": "code",
      "metadata": {
        "colab": {
          "base_uri": "https://localhost:8080/"
        },
        "id": "coCT3uywxO6r",
        "outputId": "6ed6e27f-99f3-4c30-ce2c-dbde3799e21d"
      },
      "source": [
        "print(X_train.shape)\n",
        "print(X_test.shape)\n",
        "print(X.shape)\n",
        "print(data.shape)\n",
        "print(df.shape)"
      ],
      "execution_count": 36,
      "outputs": [
        {
          "output_type": "stream",
          "text": [
            "(52318, 139)\n",
            "(22422, 139)\n",
            "(74740, 141)\n",
            "(325885, 14)\n",
            "(74740, 143)\n"
          ],
          "name": "stdout"
        }
      ]
    },
    {
      "cell_type": "markdown",
      "metadata": {
        "id": "X8p27LNeUsuP"
      },
      "source": [
        "### Determine how features of a car affect its price "
      ]
    },
    {
      "cell_type": "code",
      "metadata": {
        "colab": {
          "base_uri": "https://localhost:8080/",
          "height": 669
        },
        "id": "iq7kU-Yr8DLp",
        "outputId": "713bb382-aca6-48f6-f735-dadd55ce5659"
      },
      "source": [
        "def coef_weights(coefficients, X_train):\n",
        "    '''\n",
        "    INPUT:\n",
        "    SOURCE: modified version from Udacity - Data Science course\n",
        "    coefficients - the coefficients of the linear model \n",
        "    X_train - the training data, so the column names can be used\n",
        "    OUTPUT:\n",
        "    coefs_df - a dataframe holding the coefficient, estimate, abs(estimate), \n",
        "    count_total, count_train, car_type, var_subtype\n",
        "    \n",
        "    Provides a dataframe that can be used to understand the most influential coefficients\n",
        "    in a linear model by providing the coefficient estimates along with the name of the \n",
        "    variable attached to the coefficient.\n",
        "    '''\n",
        "    coefs_df = pd.DataFrame()\n",
        "    coefs_df['var'] = X_train.columns\n",
        "    coefs_df['coef'] = lm_model.coef_\n",
        "    coefs_df['abs_coef'] = np.abs(lm_model.coef_)\n",
        "    coefs_df = coefs_df.sort_values('abs_coef', ascending=False)\n",
        "    tmp = pd.DataFrame({'count_total':X.apply(lambda x: sum(x>0),axis=0),\n",
        "     'count_train':X_train.apply(lambda x: sum(x>0),axis=0)})\n",
        "    coefs_df = coefs_df.merge(tmp.reset_index().rename(columns={'index':'var'}), \n",
        "                            on='var',how='left').sort_values(by=['abs_coef'],ascending=False)\n",
        "\n",
        "    coefs_df['var_type'] = coefs_df['var'].apply(lambda x: x.split('_')[0])\n",
        "    coefs_df['var_subtype'] = coefs_df['var'].apply(lambda x: x.split('_')[1] if '_' in x else None)\n",
        "    return coefs_df\n",
        "\n",
        "# get the coefficient weights\n",
        "coef_df = coef_weights(lm_model.coef_, X_train)\n",
        "\n",
        "# aquick look at the top results\n",
        "coef_df.head(20)"
      ],
      "execution_count": 37,
      "outputs": [
        {
          "output_type": "execute_result",
          "data": {
            "text/html": [
              "<div>\n",
              "<style scoped>\n",
              "    .dataframe tbody tr th:only-of-type {\n",
              "        vertical-align: middle;\n",
              "    }\n",
              "\n",
              "    .dataframe tbody tr th {\n",
              "        vertical-align: top;\n",
              "    }\n",
              "\n",
              "    .dataframe thead th {\n",
              "        text-align: right;\n",
              "    }\n",
              "</style>\n",
              "<table border=\"1\" class=\"dataframe\">\n",
              "  <thead>\n",
              "    <tr style=\"text-align: right;\">\n",
              "      <th></th>\n",
              "      <th>var</th>\n",
              "      <th>coef</th>\n",
              "      <th>abs_coef</th>\n",
              "      <th>count_total</th>\n",
              "      <th>count_train</th>\n",
              "      <th>var_type</th>\n",
              "      <th>var_subtype</th>\n",
              "    </tr>\n",
              "  </thead>\n",
              "  <tbody>\n",
              "    <tr>\n",
              "      <th>0</th>\n",
              "      <td>manufacturer_tesla</td>\n",
              "      <td>18272.100188</td>\n",
              "      <td>18272.100188</td>\n",
              "      <td>23</td>\n",
              "      <td>16.0</td>\n",
              "      <td>manufacturer</td>\n",
              "      <td>tesla</td>\n",
              "    </tr>\n",
              "    <tr>\n",
              "      <th>1</th>\n",
              "      <td>fuel_electric</td>\n",
              "      <td>-11075.393874</td>\n",
              "      <td>11075.393874</td>\n",
              "      <td>153</td>\n",
              "      <td>100.0</td>\n",
              "      <td>fuel</td>\n",
              "      <td>electric</td>\n",
              "    </tr>\n",
              "    <tr>\n",
              "      <th>2</th>\n",
              "      <td>fuel_other</td>\n",
              "      <td>-9796.959031</td>\n",
              "      <td>9796.959031</td>\n",
              "      <td>100</td>\n",
              "      <td>73.0</td>\n",
              "      <td>fuel</td>\n",
              "      <td>other</td>\n",
              "    </tr>\n",
              "    <tr>\n",
              "      <th>3</th>\n",
              "      <td>cylinders_3 cylinders</td>\n",
              "      <td>-9312.373686</td>\n",
              "      <td>9312.373686</td>\n",
              "      <td>100</td>\n",
              "      <td>71.0</td>\n",
              "      <td>cylinders</td>\n",
              "      <td>3 cylinders</td>\n",
              "    </tr>\n",
              "    <tr>\n",
              "      <th>4</th>\n",
              "      <td>manufacturer_fiat</td>\n",
              "      <td>-7806.717053</td>\n",
              "      <td>7806.717053</td>\n",
              "      <td>147</td>\n",
              "      <td>99.0</td>\n",
              "      <td>manufacturer</td>\n",
              "      <td>fiat</td>\n",
              "    </tr>\n",
              "    <tr>\n",
              "      <th>5</th>\n",
              "      <td>fuel_gas</td>\n",
              "      <td>-7513.349550</td>\n",
              "      <td>7513.349550</td>\n",
              "      <td>69692</td>\n",
              "      <td>48817.0</td>\n",
              "      <td>fuel</td>\n",
              "      <td>gas</td>\n",
              "    </tr>\n",
              "    <tr>\n",
              "      <th>6</th>\n",
              "      <td>cylinders_12 cylinders</td>\n",
              "      <td>7486.526937</td>\n",
              "      <td>7486.526937</td>\n",
              "      <td>16</td>\n",
              "      <td>12.0</td>\n",
              "      <td>cylinders</td>\n",
              "      <td>12 cylinders</td>\n",
              "    </tr>\n",
              "    <tr>\n",
              "      <th>7</th>\n",
              "      <td>fuel_hybrid</td>\n",
              "      <td>-7254.282876</td>\n",
              "      <td>7254.282876</td>\n",
              "      <td>1256</td>\n",
              "      <td>861.0</td>\n",
              "      <td>fuel</td>\n",
              "      <td>hybrid</td>\n",
              "    </tr>\n",
              "    <tr>\n",
              "      <th>8</th>\n",
              "      <td>cylinders_4 cylinders</td>\n",
              "      <td>-6392.333503</td>\n",
              "      <td>6392.333503</td>\n",
              "      <td>28280</td>\n",
              "      <td>19871.0</td>\n",
              "      <td>cylinders</td>\n",
              "      <td>4 cylinders</td>\n",
              "    </tr>\n",
              "    <tr>\n",
              "      <th>9</th>\n",
              "      <td>title_status_parts only</td>\n",
              "      <td>-6162.256194</td>\n",
              "      <td>6162.256194</td>\n",
              "      <td>19</td>\n",
              "      <td>13.0</td>\n",
              "      <td>title</td>\n",
              "      <td>status</td>\n",
              "    </tr>\n",
              "    <tr>\n",
              "      <th>10</th>\n",
              "      <td>cylinders_5 cylinders</td>\n",
              "      <td>-5365.558676</td>\n",
              "      <td>5365.558676</td>\n",
              "      <td>734</td>\n",
              "      <td>515.0</td>\n",
              "      <td>cylinders</td>\n",
              "      <td>5 cylinders</td>\n",
              "    </tr>\n",
              "    <tr>\n",
              "      <th>11</th>\n",
              "      <td>cylinders_other</td>\n",
              "      <td>-5228.009733</td>\n",
              "      <td>5228.009733</td>\n",
              "      <td>208</td>\n",
              "      <td>134.0</td>\n",
              "      <td>cylinders</td>\n",
              "      <td>other</td>\n",
              "    </tr>\n",
              "    <tr>\n",
              "      <th>12</th>\n",
              "      <td>manufacturer_porsche</td>\n",
              "      <td>4884.325115</td>\n",
              "      <td>4884.325115</td>\n",
              "      <td>142</td>\n",
              "      <td>112.0</td>\n",
              "      <td>manufacturer</td>\n",
              "      <td>porsche</td>\n",
              "    </tr>\n",
              "    <tr>\n",
              "      <th>13</th>\n",
              "      <td>type_offroad</td>\n",
              "      <td>4792.093874</td>\n",
              "      <td>4792.093874</td>\n",
              "      <td>180</td>\n",
              "      <td>118.0</td>\n",
              "      <td>type</td>\n",
              "      <td>offroad</td>\n",
              "    </tr>\n",
              "    <tr>\n",
              "      <th>14</th>\n",
              "      <td>manufacturer_mercury</td>\n",
              "      <td>-4609.570460</td>\n",
              "      <td>4609.570460</td>\n",
              "      <td>384</td>\n",
              "      <td>273.0</td>\n",
              "      <td>manufacturer</td>\n",
              "      <td>mercury</td>\n",
              "    </tr>\n",
              "    <tr>\n",
              "      <th>15</th>\n",
              "      <td>type_truck</td>\n",
              "      <td>4606.614145</td>\n",
              "      <td>4606.614145</td>\n",
              "      <td>10370</td>\n",
              "      <td>7274.0</td>\n",
              "      <td>type</td>\n",
              "      <td>truck</td>\n",
              "    </tr>\n",
              "    <tr>\n",
              "      <th>16</th>\n",
              "      <td>manufacturer_kia</td>\n",
              "      <td>-4603.053521</td>\n",
              "      <td>4603.053521</td>\n",
              "      <td>1599</td>\n",
              "      <td>1081.0</td>\n",
              "      <td>manufacturer</td>\n",
              "      <td>kia</td>\n",
              "    </tr>\n",
              "    <tr>\n",
              "      <th>17</th>\n",
              "      <td>manufacturer_dodge</td>\n",
              "      <td>-4510.522071</td>\n",
              "      <td>4510.522071</td>\n",
              "      <td>2733</td>\n",
              "      <td>1852.0</td>\n",
              "      <td>manufacturer</td>\n",
              "      <td>dodge</td>\n",
              "    </tr>\n",
              "    <tr>\n",
              "      <th>18</th>\n",
              "      <td>manufacturer_nissan</td>\n",
              "      <td>-4207.115061</td>\n",
              "      <td>4207.115061</td>\n",
              "      <td>4434</td>\n",
              "      <td>3083.0</td>\n",
              "      <td>manufacturer</td>\n",
              "      <td>nissan</td>\n",
              "    </tr>\n",
              "    <tr>\n",
              "      <th>19</th>\n",
              "      <td>manufacturer_chrysler</td>\n",
              "      <td>-4165.892747</td>\n",
              "      <td>4165.892747</td>\n",
              "      <td>1530</td>\n",
              "      <td>1073.0</td>\n",
              "      <td>manufacturer</td>\n",
              "      <td>chrysler</td>\n",
              "    </tr>\n",
              "  </tbody>\n",
              "</table>\n",
              "</div>"
            ],
            "text/plain": [
              "                        var          coef  ...      var_type   var_subtype\n",
              "0        manufacturer_tesla  18272.100188  ...  manufacturer         tesla\n",
              "1             fuel_electric -11075.393874  ...          fuel      electric\n",
              "2                fuel_other  -9796.959031  ...          fuel         other\n",
              "3     cylinders_3 cylinders  -9312.373686  ...     cylinders   3 cylinders\n",
              "4         manufacturer_fiat  -7806.717053  ...  manufacturer          fiat\n",
              "5                  fuel_gas  -7513.349550  ...          fuel           gas\n",
              "6    cylinders_12 cylinders   7486.526937  ...     cylinders  12 cylinders\n",
              "7               fuel_hybrid  -7254.282876  ...          fuel        hybrid\n",
              "8     cylinders_4 cylinders  -6392.333503  ...     cylinders   4 cylinders\n",
              "9   title_status_parts only  -6162.256194  ...         title        status\n",
              "10    cylinders_5 cylinders  -5365.558676  ...     cylinders   5 cylinders\n",
              "11          cylinders_other  -5228.009733  ...     cylinders         other\n",
              "12     manufacturer_porsche   4884.325115  ...  manufacturer       porsche\n",
              "13             type_offroad   4792.093874  ...          type       offroad\n",
              "14     manufacturer_mercury  -4609.570460  ...  manufacturer       mercury\n",
              "15               type_truck   4606.614145  ...          type         truck\n",
              "16         manufacturer_kia  -4603.053521  ...  manufacturer           kia\n",
              "17       manufacturer_dodge  -4510.522071  ...  manufacturer         dodge\n",
              "18      manufacturer_nissan  -4207.115061  ...  manufacturer        nissan\n",
              "19    manufacturer_chrysler  -4165.892747  ...  manufacturer      chrysler\n",
              "\n",
              "[20 rows x 7 columns]"
            ]
          },
          "metadata": {
            "tags": []
          },
          "execution_count": 37
        }
      ]
    },
    {
      "cell_type": "markdown",
      "metadata": {
        "id": "m3F1w5YaU4Nw"
      },
      "source": [
        "### Influence of a car's vintage year and mileage on its price"
      ]
    },
    {
      "cell_type": "code",
      "metadata": {
        "colab": {
          "base_uri": "https://localhost:8080/",
          "height": 111
        },
        "id": "YmKJxPqSpEFy",
        "outputId": "fbbf841f-cc2d-4c6c-b0fb-0fb256e4b136"
      },
      "source": [
        "coef_df[coef_df['var'].isin(['odometer','year'])]"
      ],
      "execution_count": 38,
      "outputs": [
        {
          "output_type": "execute_result",
          "data": {
            "text/html": [
              "<div>\n",
              "<style scoped>\n",
              "    .dataframe tbody tr th:only-of-type {\n",
              "        vertical-align: middle;\n",
              "    }\n",
              "\n",
              "    .dataframe tbody tr th {\n",
              "        vertical-align: top;\n",
              "    }\n",
              "\n",
              "    .dataframe thead th {\n",
              "        text-align: right;\n",
              "    }\n",
              "</style>\n",
              "<table border=\"1\" class=\"dataframe\">\n",
              "  <thead>\n",
              "    <tr style=\"text-align: right;\">\n",
              "      <th></th>\n",
              "      <th>var</th>\n",
              "      <th>coef</th>\n",
              "      <th>abs_coef</th>\n",
              "      <th>count_total</th>\n",
              "      <th>count_train</th>\n",
              "      <th>var_type</th>\n",
              "      <th>var_subtype</th>\n",
              "    </tr>\n",
              "  </thead>\n",
              "  <tbody>\n",
              "    <tr>\n",
              "      <th>99</th>\n",
              "      <td>year</td>\n",
              "      <td>912.791847</td>\n",
              "      <td>912.791847</td>\n",
              "      <td>73547</td>\n",
              "      <td>51502.0</td>\n",
              "      <td>year</td>\n",
              "      <td>None</td>\n",
              "    </tr>\n",
              "    <tr>\n",
              "      <th>135</th>\n",
              "      <td>odometer</td>\n",
              "      <td>-44.110507</td>\n",
              "      <td>44.110507</td>\n",
              "      <td>74740</td>\n",
              "      <td>52318.0</td>\n",
              "      <td>odometer</td>\n",
              "      <td>None</td>\n",
              "    </tr>\n",
              "  </tbody>\n",
              "</table>\n",
              "</div>"
            ],
            "text/plain": [
              "          var        coef    abs_coef  ...  count_train  var_type var_subtype\n",
              "99       year  912.791847  912.791847  ...      51502.0      year        None\n",
              "135  odometer  -44.110507   44.110507  ...      52318.0  odometer        None\n",
              "\n",
              "[2 rows x 7 columns]"
            ]
          },
          "metadata": {
            "tags": []
          },
          "execution_count": 38
        }
      ]
    },
    {
      "cell_type": "markdown",
      "metadata": {
        "id": "Z_KjSV_AU7hP"
      },
      "source": [
        "#### Observations\n",
        "- The price of a car decreases by \\$ 912.8 each year, given that all other factors remain the same\n",
        "- The price of a car decreases by \\$ 44.1 for each 1,000 miles it is driven, given that all other factors remain the same\n",
        "\n"
      ]
    },
    {
      "cell_type": "markdown",
      "metadata": {
        "id": "_Li9-C7LVtO5"
      },
      "source": [
        "### Influence of categorical features on car price"
      ]
    },
    {
      "cell_type": "code",
      "metadata": {
        "colab": {
          "base_uri": "https://localhost:8080/",
          "height": 507
        },
        "id": "diYaYGh89z_j",
        "outputId": "5207e331-db6c-4e2d-c00b-14eba6977e47"
      },
      "source": [
        "#sns.set_context(\"talk\")\n",
        "sns.set_context(\"notebook\", font_scale=1.5, rc={\"lines.linewidth\": 2.5})\n",
        "\n",
        "sns.set_style(\"whitegrid\")\n",
        "g = sns.catplot(x=\"var_type\", y=\"coef\", kind=\"box\", data=coef_df)\n",
        "g.set(xlabel='Car Feature', ylabel='Car Price ($)')\n",
        "g.set_xticklabels(rotation=45)\n",
        "g.fig.set_size_inches(20,6)\n"
      ],
      "execution_count": 39,
      "outputs": [
        {
          "output_type": "display_data",
          "data": {
            "image/png": "[encoded data removed]",
            "text/plain": [
              "<Figure size 1440x432 with 1 Axes>"
            ]
          },
          "metadata": {
            "tags": []
          }
        }
      ]
    },
    {
      "cell_type": "markdown",
      "metadata": {
        "id": "h6C7JEeia-Am"
      },
      "source": [
        "#### Observations\n",
        "- The car's manufacturer and the number of cylinders it has cause the largest variability in the price of a car\n",
        "- Other variables that impact the price of a car seem to have low variability"
      ]
    },
    {
      "cell_type": "code",
      "metadata": {
        "colab": {
          "base_uri": "https://localhost:8080/",
          "height": 297
        },
        "id": "hQo3X80mWobv",
        "outputId": "758415dc-5bd6-481f-fb81-2d477ea8b3f8"
      },
      "source": [
        "coef_df[coef_df['var_type']=='manufacturer'].describe()"
      ],
      "execution_count": 40,
      "outputs": [
        {
          "output_type": "execute_result",
          "data": {
            "text/html": [
              "<div>\n",
              "<style scoped>\n",
              "    .dataframe tbody tr th:only-of-type {\n",
              "        vertical-align: middle;\n",
              "    }\n",
              "\n",
              "    .dataframe tbody tr th {\n",
              "        vertical-align: top;\n",
              "    }\n",
              "\n",
              "    .dataframe thead th {\n",
              "        text-align: right;\n",
              "    }\n",
              "</style>\n",
              "<table border=\"1\" class=\"dataframe\">\n",
              "  <thead>\n",
              "    <tr style=\"text-align: right;\">\n",
              "      <th></th>\n",
              "      <th>coef</th>\n",
              "      <th>abs_coef</th>\n",
              "      <th>count_total</th>\n",
              "      <th>count_train</th>\n",
              "    </tr>\n",
              "  </thead>\n",
              "  <tbody>\n",
              "    <tr>\n",
              "      <th>count</th>\n",
              "      <td>36.000000</td>\n",
              "      <td>36.000000</td>\n",
              "      <td>36.000000</td>\n",
              "      <td>36.000000</td>\n",
              "    </tr>\n",
              "    <tr>\n",
              "      <th>mean</th>\n",
              "      <td>-1802.534673</td>\n",
              "      <td>3144.193850</td>\n",
              "      <td>2055.388889</td>\n",
              "      <td>1438.361111</td>\n",
              "    </tr>\n",
              "    <tr>\n",
              "      <th>std</th>\n",
              "      <td>3975.223538</td>\n",
              "      <td>2995.989806</td>\n",
              "      <td>2917.574485</td>\n",
              "      <td>2041.313417</td>\n",
              "    </tr>\n",
              "    <tr>\n",
              "      <th>min</th>\n",
              "      <td>-7806.717053</td>\n",
              "      <td>37.021321</td>\n",
              "      <td>15.000000</td>\n",
              "      <td>8.000000</td>\n",
              "    </tr>\n",
              "    <tr>\n",
              "      <th>25%</th>\n",
              "      <td>-3335.640878</td>\n",
              "      <td>1736.807647</td>\n",
              "      <td>402.750000</td>\n",
              "      <td>277.500000</td>\n",
              "    </tr>\n",
              "    <tr>\n",
              "      <th>50%</th>\n",
              "      <td>-2348.768377</td>\n",
              "      <td>2616.131477</td>\n",
              "      <td>1096.500000</td>\n",
              "      <td>765.500000</td>\n",
              "    </tr>\n",
              "    <tr>\n",
              "      <th>75%</th>\n",
              "      <td>-1568.162270</td>\n",
              "      <td>3635.303307</td>\n",
              "      <td>2162.750000</td>\n",
              "      <td>1527.000000</td>\n",
              "    </tr>\n",
              "    <tr>\n",
              "      <th>max</th>\n",
              "      <td>18272.100188</td>\n",
              "      <td>18272.100188</td>\n",
              "      <td>13392.000000</td>\n",
              "      <td>9378.000000</td>\n",
              "    </tr>\n",
              "  </tbody>\n",
              "</table>\n",
              "</div>"
            ],
            "text/plain": [
              "               coef      abs_coef   count_total  count_train\n",
              "count     36.000000     36.000000     36.000000    36.000000\n",
              "mean   -1802.534673   3144.193850   2055.388889  1438.361111\n",
              "std     3975.223538   2995.989806   2917.574485  2041.313417\n",
              "min    -7806.717053     37.021321     15.000000     8.000000\n",
              "25%    -3335.640878   1736.807647    402.750000   277.500000\n",
              "50%    -2348.768377   2616.131477   1096.500000   765.500000\n",
              "75%    -1568.162270   3635.303307   2162.750000  1527.000000\n",
              "max    18272.100188  18272.100188  13392.000000  9378.000000"
            ]
          },
          "metadata": {
            "tags": []
          },
          "execution_count": 40
        }
      ]
    }
  ]
}